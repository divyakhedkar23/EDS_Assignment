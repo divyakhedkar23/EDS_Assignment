{
  "nbformat": 4,
  "nbformat_minor": 0,
  "metadata": {
    "colab": {
      "provenance": []
    },
    "kernelspec": {
      "name": "python3",
      "display_name": "Python 3"
    },
    "language_info": {
      "name": "python"
    }
  },
  "cells": [
    {
      "cell_type": "code",
      "source": [
        "import numpy as np\n",
        "import pandas as pd"
      ],
      "metadata": {
        "id": "5tJDknZ4iD2C"
      },
      "execution_count": null,
      "outputs": []
    },
    {
      "cell_type": "code",
      "source": [
        "Product_details=[]\n",
        "Supplier_details=dict()\n",
        "Customer_details=[]\n",
        "gender={}\n",
        "\n",
        "fp1=open(\"/content/Sales.csv\")\n",
        "\n",
        "data=fp1.readline()\n",
        "\n",
        "while(True):\n",
        "\n",
        "  data=fp1.readline()\n",
        "  if not data:\n",
        "    break;\n",
        "  #print(data)\n",
        "  data=data.replace(\"\\n\",\"\")\n",
        "  temp=data.split(\",\")\n",
        "  Product_details.append(temp[1])\n",
        "  Customer_details.append(temp[3])\n",
        "  Supplier_details.update({temp[0]:temp[2]})\n",
        "  gender.update({temp[3]:temp[4]})\n",
        "\n",
        "fp1.close()\n",
        "\n",
        "Customer_details=tuple(Customer_details)\n",
        "print(type(Customer_details))\n",
        "\n",
        "\n",
        "print(\"\\nProduct_details\\n\",Product_details,end=\"\")\n",
        "print(\"\\n\\nCustomer_deatils\\n\",Customer_details,end=\"\")\n",
        "print(\"\\n\\nSupplier_details\\n\",Supplier_details,end=\"\")\n",
        "print(\"\\n\\nGender_details\\n\",gender,end=\"\")"
      ],
      "metadata": {
        "colab": {
          "base_uri": "https://localhost:8080/"
        },
        "id": "bVO04mSncD3l",
        "outputId": "f9d1f370-cd0b-48f3-f232-7bc78474962f"
      },
      "execution_count": null,
      "outputs": [
        {
          "output_type": "stream",
          "name": "stdout",
          "text": [
            "<class 'tuple'>\n",
            "\n",
            "Product_details\n",
            " ['Lenovo Laptop', 'Samsung M31', 'Realmi 10pro', 'Oppo F21', 'Lenovo Laptop', 'Samsung M31', '\"LG TV 32\"\"\"', 'Oppo F21', 'Lenovo Laptop', 'Samsung M31', '\"LG TV 32\"\"\"', 'Lenovo Laptop', 'Samsung M31', 'Realmi 10pro', 'Lenovo Laptop', 'Oppo F21', '\"LG TV 32\"\"\"', 'Lenovo Laptop', 'Samsung M31', '\"LG TV 32\"\"\"']\n",
            "\n",
            "Customer_deatils\n",
            " ('Kaustubh Mahajan', 'Siddhi Kiwale', 'Sanket Kandalkar', 'Yash Mali', 'Yash Bagul', 'Siddhi Kiwale', 'Sanket Kandalkar', 'Kaustubh Mahajan', 'Yash Mali', 'Siddhi Kiwale', 'Sanket Kandalkar', 'Kaustubh Mahajan', 'Yash Mali', 'Siddhi Kiwale', 'Tanuja Mali', 'Kaustubh Mahajan', 'Sanket Kandalkar', 'Siddhi Kiwale', 'Kaustubh Mahajan', 'Yash Mali')\n",
            "\n",
            "Supplier_details\n",
            " {'P00001': 'Raka Ele.', 'P00002': 'Vijay Sales', 'P00003': 'Gada Ele.', 'P00004': 'Surya Ele.', 'P00005': 'Raka Ele.', 'P00006': 'Gada Ele.', 'P00007': 'Vijay Sales', 'P00008': 'Surya Ele.', 'P00009': 'Raka Ele.', 'P00010': 'Gada Ele.', 'P00011': 'Surya Ele.', 'P00012': 'Raka Ele.', 'P00013': 'Surya Ele.', 'P00014': 'Raka Ele.', 'P00015': 'Gada Ele.', 'P00016': 'Vijay Sales', 'P00017': 'Deshmukh sales', 'P00018': 'Raka Ele.', 'P00019': 'Deshmukh sales', 'P00020': 'Gada Ele.'}\n",
            "\n",
            "Gender_details\n",
            " {'Kaustubh Mahajan': 'Male', 'Siddhi Kiwale': 'Female', 'Sanket Kandalkar': 'Male', 'Yash Mali': 'Male', 'Yash Bagul': 'Male', 'Tanuja Mali': 'Female'}"
          ]
        }
      ]
    },
    {
      "cell_type": "code",
      "source": [
        "frequency={} #{Lenovo Laptop:3}\n",
        "# iterating over the list\n",
        "for item in Product_details:\n",
        "  #checking the element in dictionary\n",
        "  if item in frequency:\n",
        "    #incrementing the counter\n",
        "    frequency[item] +=1\n",
        "  else:\n",
        "    #initializing the count\n",
        "    frequency[item]=1\n",
        "#printing the frequency\n",
        "print(frequency)\n",
        "marklist= sorted(frequency.items(),key=lambda x:x[1],reverse=True)\n",
        "sortdict= dict(marklist)\n",
        "print(sortdict)\n",
        "print(\"The most popular product for sales\",list(sortdict.keys())[0],\"sold\",list(sortdict.values())[0],\"times\")"
      ],
      "metadata": {
        "colab": {
          "base_uri": "https://localhost:8080/"
        },
        "id": "qJnV1Cs7iZrR",
        "outputId": "432a0409-952a-4d16-85b8-5a42848b48e8"
      },
      "execution_count": null,
      "outputs": [
        {
          "output_type": "stream",
          "name": "stdout",
          "text": [
            "{'Lenovo Laptop': 6, 'Samsung M31': 5, 'Realmi 10pro': 2, 'Oppo F21': 3, '\"LG TV 32\"\"\"': 4}\n",
            "{'Lenovo Laptop': 6, 'Samsung M31': 5, '\"LG TV 32\"\"\"': 4, 'Oppo F21': 3, 'Realmi 10pro': 2}\n",
            "The most popular product for sales Lenovo Laptop sold 6 times\n"
          ]
        }
      ]
    },
    {
      "cell_type": "code",
      "source": [
        "frequency={}\n",
        "# iterating over the list\n",
        "for item in Supplier_details.values():\n",
        "  #checking the element in dictionary\n",
        "  if item in frequency:\n",
        "    #incrementing the counter\n",
        "    frequency[item] +=1\n",
        "  else:\n",
        "    #initializing the count\n",
        "    frequency[item]=1\n",
        "#printing the frequency\n",
        "print(frequency)\n",
        "marklist= sorted(frequency.items(),key=lambda x:x[1],reverse=True)\n",
        "sortdict= dict(marklist)\n",
        "print(sortdict)\n",
        "print(\"The most popular product for sales\",list(sortdict.keys())[0],\"sold\",list(sortdict.values())[0],\"Items\")"
      ],
      "metadata": {
        "colab": {
          "base_uri": "https://localhost:8080/"
        },
        "id": "Z7Cn3ifSiiee",
        "outputId": "990a20b2-6e91-464a-a330-78030fd1c281"
      },
      "execution_count": null,
      "outputs": [
        {
          "output_type": "stream",
          "name": "stdout",
          "text": [
            "{'Raka Ele.': 6, 'Vijay Sales': 3, 'Gada Ele.': 5, 'Surya Ele.': 4, 'Deshmukh sales': 2}\n",
            "{'Raka Ele.': 6, 'Gada Ele.': 5, 'Surya Ele.': 4, 'Vijay Sales': 3, 'Deshmukh sales': 2}\n",
            "The most popular product for sales Raka Ele. sold 6 Items\n"
          ]
        }
      ]
    },
    {
      "cell_type": "code",
      "source": [
        "frequency={}\n",
        "# iterating over the list\n",
        "for item in Customer_details:\n",
        "  #checking the element in dictionary\n",
        "  if item in frequency:\n",
        "    #incrementing the counter\n",
        "    frequency[item] +=1\n",
        "  else:\n",
        "    #initializing the count\n",
        "    frequency[item]=1\n",
        "#printing the frequency\n",
        "print(\"Frequency is as below:\\n\",frequency)\n",
        "marklist= sorted(frequency.items(),key=lambda x:x[1],reverse=True)\n",
        "sortdict= dict(marklist)\n",
        "print(\"\\nSorted dict is as below:\\n\",sortdict)\n",
        "print(\"\\n\\nThe customer who buys most of the products\",list(sortdict.keys())[0],\"buy\",list(sortdict.values())[0],\"Items\")"
      ],
      "metadata": {
        "colab": {
          "base_uri": "https://localhost:8080/"
        },
        "id": "d2-4iw-UimrJ",
        "outputId": "40845316-63c4-416b-ebac-60320e5df5f6"
      },
      "execution_count": null,
      "outputs": [
        {
          "output_type": "stream",
          "name": "stdout",
          "text": [
            "Frequency is as below:\n",
            " {'Kaustubh Mahajan': 5, 'Siddhi Kiwale': 5, 'Sanket Kandalkar': 4, 'Yash Mali': 4, 'Yash Bagul': 1, 'Tanuja Mali': 1}\n",
            "\n",
            "Sorted dict is as below:\n",
            " {'Kaustubh Mahajan': 5, 'Siddhi Kiwale': 5, 'Sanket Kandalkar': 4, 'Yash Mali': 4, 'Yash Bagul': 1, 'Tanuja Mali': 1}\n",
            "\n",
            "\n",
            "The customer who buys most of the products Kaustubh Mahajan buy 5 Items\n"
          ]
        }
      ]
    },
    {
      "cell_type": "code",
      "source": [
        "# Identify Unique Customer\n",
        "from collections import Counter\n",
        "counter = dict(Counter(Customer_details))\n",
        "names=list(counter.keys())\n",
        "print(names)\n",
        "male=0\n",
        "female=0\n",
        "\n",
        "for name in names:\n",
        "  if gender[name]==\"Male\":\n",
        "    male=male+1\n",
        "  if gender[name]==\"Female\":\n",
        "    female+=1\n",
        "print(\"Total no of Male=\",male)\n",
        "print(\"Total no of Female=\",female)"
      ],
      "metadata": {
        "colab": {
          "base_uri": "https://localhost:8080/"
        },
        "id": "8Rv9WITiioJN",
        "outputId": "ee0aed7a-d86b-4a2d-defd-df6c041eda85"
      },
      "execution_count": null,
      "outputs": [
        {
          "output_type": "stream",
          "name": "stdout",
          "text": [
            "['Kaustubh Mahajan', 'Siddhi Kiwale', 'Sanket Kandalkar', 'Yash Mali', 'Yash Bagul', 'Tanuja Mali']\n",
            "Total no of Male= 4\n",
            "Total no of Female= 2\n"
          ]
        }
      ]
    }
  ]
}